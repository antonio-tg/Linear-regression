{
 "cells": [
  {
   "cell_type": "code",
   "execution_count": 11,
   "metadata": {},
   "outputs": [
    {
     "data": {
      "text/html": [
       "<div>\n",
       "<style scoped>\n",
       "    .dataframe tbody tr th:only-of-type {\n",
       "        vertical-align: middle;\n",
       "    }\n",
       "\n",
       "    .dataframe tbody tr th {\n",
       "        vertical-align: top;\n",
       "    }\n",
       "\n",
       "    .dataframe thead th {\n",
       "        text-align: right;\n",
       "    }\n",
       "</style>\n",
       "<table border=\"1\" class=\"dataframe\">\n",
       "  <thead>\n",
       "    <tr style=\"text-align: right;\">\n",
       "      <th></th>\n",
       "      <th>modelo</th>\n",
       "      <th>cilindraje</th>\n",
       "      <th>potencia</th>\n",
       "      <th>peso</th>\n",
       "      <th>consumo</th>\n",
       "    </tr>\n",
       "  </thead>\n",
       "  <tbody>\n",
       "    <tr>\n",
       "      <th>20</th>\n",
       "      <td>Citroen</td>\n",
       "      <td>1998</td>\n",
       "      <td>89</td>\n",
       "      <td>1140</td>\n",
       "      <td>8.8</td>\n",
       "    </tr>\n",
       "    <tr>\n",
       "      <th>21</th>\n",
       "      <td>Peugeot</td>\n",
       "      <td>1998</td>\n",
       "      <td>89</td>\n",
       "      <td>1560</td>\n",
       "      <td>10.8</td>\n",
       "    </tr>\n",
       "    <tr>\n",
       "      <th>22</th>\n",
       "      <td>Fiat</td>\n",
       "      <td>899</td>\n",
       "      <td>29</td>\n",
       "      <td>730</td>\n",
       "      <td>6.1</td>\n",
       "    </tr>\n",
       "    <tr>\n",
       "      <th>23</th>\n",
       "      <td>Seat</td>\n",
       "      <td>1984</td>\n",
       "      <td>85</td>\n",
       "      <td>1635</td>\n",
       "      <td>11.6</td>\n",
       "    </tr>\n",
       "    <tr>\n",
       "      <th>24</th>\n",
       "      <td>Ford</td>\n",
       "      <td>1242</td>\n",
       "      <td>55</td>\n",
       "      <td>940</td>\n",
       "      <td>6.6</td>\n",
       "    </tr>\n",
       "  </tbody>\n",
       "</table>\n",
       "</div>"
      ],
      "text/plain": [
       "     modelo  cilindraje  potencia  peso  consumo\n",
       "20  Citroen        1998        89  1140      8.8\n",
       "21  Peugeot        1998        89  1560     10.8\n",
       "22     Fiat         899        29   730      6.1\n",
       "23     Seat        1984        85  1635     11.6\n",
       "24     Ford        1242        55   940      6.6"
      ]
     },
     "execution_count": 11,
     "metadata": {},
     "output_type": "execute_result"
    }
   ],
   "source": [
    "import pandas as pd\n",
    "import numpy as np\n",
    "import statsmodels.api as sm\n",
    "import matplotlib.pyplot as plt\n",
    "df = pd.read_csv('cars.csv')\n",
    "df.tail()"
   ]
  },
  {
   "cell_type": "code",
   "execution_count": 2,
   "metadata": {},
   "outputs": [],
   "source": [
    "Y=df['consumo'].values\n",
    "Z=df['modelo']\n",
    "df = df.drop(['consumo','modelo'],axis=1)\n",
    "X=df.values"
   ]
  },
  {
   "cell_type": "code",
   "execution_count": 3,
   "metadata": {},
   "outputs": [
    {
     "name": "stdout",
     "output_type": "stream",
     "text": [
      "[14.5  5.7  7.1  8.6 10.8 12.7 12.8 11.7  7.7  9.5  5.8 11.9 18.7 10.8\n",
      "  6.5 11.7  6.8  7.4  9.   7.6  8.8 10.8  6.1 11.6  6.6] [[2789  209 1485]\n",
      " [ 846   32  650]\n",
      " [1331   55 1010]\n",
      " [1390   54 1110]\n",
      " [2497  122 1330]\n",
      " [2473  125 1570]\n",
      " [2438   97 1800]\n",
      " [2165  101 1500]\n",
      " [1396   66 1140]\n",
      " [1984   85 1155]\n",
      " [ 993   39  790]\n",
      " [2958  150 1550]\n",
      " [5987  300 2250]\n",
      " [2435  106 1370]\n",
      " [1390   44  955]\n",
      " [2972  107 1400]\n",
      " [1195   33  895]\n",
      " [1597   74 1080]\n",
      " [1761   74 1100]\n",
      " [1998   66 1300]\n",
      " [1998   89 1140]\n",
      " [1998   89 1560]\n",
      " [ 899   29  730]\n",
      " [1984   85 1635]\n",
      " [1242   55  940]]\n"
     ]
    }
   ],
   "source": [
    "print(Y,X)"
   ]
  },
  {
   "cell_type": "code",
   "execution_count": 4,
   "metadata": {},
   "outputs": [
    {
     "name": "stdout",
     "output_type": "stream",
     "text": [
      "                                 OLS Regression Results                                \n",
      "=======================================================================================\n",
      "Dep. Variable:                      y   R-squared (uncentered):                   0.995\n",
      "Model:                            OLS   Adj. R-squared (uncentered):              0.994\n",
      "Method:                 Least Squares   F-statistic:                              1497.\n",
      "Date:                Thu, 02 Jul 2020   Prob (F-statistic):                    1.43e-25\n",
      "Time:                        20:54:51   Log-Likelihood:                         -26.818\n",
      "No. Observations:                  25   AIC:                                      59.64\n",
      "Df Residuals:                      22   BIC:                                      63.29\n",
      "Df Model:                           3                                                  \n",
      "Covariance Type:            nonrobust                                                  \n",
      "==============================================================================\n",
      "                 coef    std err          t      P>|t|      [0.025      0.975]\n",
      "------------------------------------------------------------------------------\n",
      "x1            -0.0006      0.001     -1.091      0.287      -0.002       0.001\n",
      "x2             0.0267      0.008      3.405      0.003       0.010       0.043\n",
      "x3             0.0066      0.000     13.614      0.000       0.006       0.008\n",
      "==============================================================================\n",
      "Omnibus:                        0.523   Durbin-Watson:                   2.458\n",
      "Prob(Omnibus):                  0.770   Jarque-Bera (JB):                0.629\n",
      "Skew:                          -0.264   Prob(JB):                        0.730\n",
      "Kurtosis:                       2.430   Cond. No.                         135.\n",
      "==============================================================================\n",
      "\n",
      "Warnings:\n",
      "[1] Standard Errors assume that the covariance matrix of the errors is correctly specified.\n"
     ]
    }
   ],
   "source": [
    "olsmod = sm.OLS(Y, X)\n",
    "olsres = olsmod.fit()\n",
    "print(olsres.summary())"
   ]
  },
  {
   "cell_type": "code",
   "execution_count": 5,
   "metadata": {
    "scrolled": true
   },
   "outputs": [
    {
     "name": "stdout",
     "output_type": "stream",
     "text": [
      "El valor calculado es [13.77501134]  y debía ser 14.5  con un error de [4.99992177] %\n",
      "El valor calculado es [4.66186803]  y debía ser 5.7  con un error de [18.21284159] %\n",
      "El valor calculado es [7.3749134]  y debía ser 7.1  con un error de [3.87201968] %\n",
      "El valor calculado es [7.97559553]  y debía ser 8.6  con un error de [7.26051704] %\n",
      "El valor calculado es [10.60040557]  y debía ser 10.8  con un error de [1.84809659] %\n",
      "El valor calculado es [12.28216487]  y debía ser 12.7  con un error de [3.29004041] %\n",
      "El valor calculado es [13.07793536]  y debía ser 12.8  con un error de [2.17137002] %\n",
      "El valor calculado es [11.35830944]  y debía ser 11.7  con un error de [2.9204321] %\n",
      "El valor calculado es [8.49041894]  y debía ser 7.7  con un error de [10.26518109] %\n",
      "El valor calculado es [8.75447112]  y debía ser 9.5  con un error de [7.84767238] %\n",
      "El valor calculado es [5.68929023]  y debía ser 5.8  con un error de [1.90878911] %\n",
      "El valor calculado es [12.53440195]  y debía ser 11.9  con un error de [5.33110882] %\n",
      "El valor calculado es [19.4038855]  y debía ser 18.7  con un error de [3.76409357] %\n",
      "El valor calculado es [10.4746309]  y debía ser 10.8  con un error de [3.01267682] %\n",
      "El valor calculado es [6.68358025]  y debía ser 6.5  con un error de [2.82431153] %\n",
      "El valor calculado es [10.38781176]  y debía ser 11.7  con un error de [11.2152841] %\n",
      "El valor calculado es [6.10672029]  y debía ser 6.8  con un error de [10.1952898] %\n",
      "El valor calculado es [8.18990647]  y debía ser 7.4  con un error de [10.67441182] %\n",
      "El valor calculado es [8.22695735]  y debía ser 9.0  con un error de [8.58936276] %\n",
      "El valor calculado es [9.199279]  y debía ser 7.6  con un error de [21.04314473] %\n"
     ]
    }
   ],
   "source": [
    "for i in range(0,20):\n",
    "    print('El valor calculado es', olsres.predict(X[i]), ' y debía ser', Y[i], ' con un error de', abs(olsres.predict(X[i])-Y[i])/Y[i]*100, '%')"
   ]
  },
  {
   "cell_type": "code",
   "execution_count": 6,
   "metadata": {},
   "outputs": [
    {
     "name": "stdout",
     "output_type": "stream",
     "text": [
      "Con un error de  6.944927486209475 %\n"
     ]
    }
   ],
   "source": [
    "error = (abs(Y-olsres.predict(X)))/Y*100\n",
    "print('Con un error de ',np.mean(error),'%')"
   ]
  },
  {
   "cell_type": "code",
   "execution_count": 18,
   "metadata": {},
   "outputs": [
    {
     "data": {
      "image/png": "[encoded data removed]",
      "text/plain": [
       "<Figure size 432x288 with 1 Axes>"
      ]
     },
     "metadata": {
      "needs_background": "light"
     },
     "output_type": "display_data"
    }
   ],
   "source": [
    "plt.plot(olsres.predict(),'r.',Y,'b.')\n",
    "plt.show()"
   ]
  },
  {
   "cell_type": "code",
   "execution_count": null,
   "metadata": {},
   "outputs": [],
   "source": []
  }
 ],
 "metadata": {
  "kernelspec": {
   "display_name": "Python 3",
   "language": "python",
   "name": "python3"
  },
  "language_info": {
   "codemirror_mode": {
    "name": "ipython",
    "version": 3
   },
   "file_extension": ".py",
   "mimetype": "text/x-python",
   "name": "python",
   "nbconvert_exporter": "python",
   "pygments_lexer": "ipython3",
   "version": "3.7.6"
  }
 },
 "nbformat": 4,
 "nbformat_minor": 4
}
